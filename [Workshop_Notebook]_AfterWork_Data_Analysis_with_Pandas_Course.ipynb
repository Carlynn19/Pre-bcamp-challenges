{
  "nbformat": 4,
  "nbformat_minor": 0,
  "metadata": {
    "colab": {
      "provenance": [],
      "collapsed_sections": [
        "w8qMMtyAEKaW",
        "HmQIZGyHEM1N",
        "HiAd-LgnFLHm",
        "dPnc4u_2FUHn",
        "NBTQVCpFRV4A",
        "N47kvM2GRXit",
        "-rAlNGbPElHd",
        "n_TogM_PFbW7",
        "daXfrh_XFf0l",
        "AFqAIw5JIdtr",
        "-U7wy9OiMJCP",
        "27ITHkEqEoO-",
        "u_ODDCozVdPS",
        "yXZea-ZzVosj",
        "JQ5VzUGPVt3C",
        "UswcNqxaXYF8",
        "r_e-FwWhXaDm",
        "wHAW1B81Eqy9",
        "Jbdq-H9ab60n",
        "M2hIOVDck-Bx",
        "jHVi6Wd6cYlK",
        "8qAATdbzEtJ9",
        "zEBJB9cKEG7o",
        "MaQuSFJfEMu8",
        "zocoI3m-EYYT",
        "2MBvf8ngEf_T",
        "B9CcU7zqEmTd",
        "6rj5KHpFnHWa"
      ],
      "toc_visible": true,
      "include_colab_link": true
    },
    "kernelspec": {
      "name": "python3",
      "display_name": "Python 3"
    },
    "language_info": {
      "name": "python"
    }
  },
  "cells": [
    {
      "cell_type": "markdown",
      "metadata": {
        "id": "view-in-github",
        "colab_type": "text"
      },
      "source": [
        "<a href=\"https://colab.research.google.com/github/Carlynn19/Pre-bcamp-challenges/blob/main/%5BWorkshop_Notebook%5D_AfterWork_Data_Analysis_with_Pandas_Course.ipynb\" target=\"_parent\"><img src=\"https://colab.research.google.com/assets/colab-badge.svg\" alt=\"Open In Colab\"/></a>"
      ]
    },
    {
      "cell_type": "markdown",
      "source": [
        "# AfterWork: Data Analysis with Pandas Course"
      ],
      "metadata": {
        "id": "Zhdo4-FfEFP_"
      }
    },
    {
      "cell_type": "markdown",
      "source": [
        "## Pre-requisites"
      ],
      "metadata": {
        "id": "w8qMMtyAEKaW"
      }
    },
    {
      "cell_type": "code",
      "execution_count": null,
      "metadata": {
        "id": "6vl5aRR6DZJv"
      },
      "outputs": [],
      "source": [
        "# Import the Pandas library\n",
        "import pandas as pd"
      ]
    },
    {
      "cell_type": "markdown",
      "source": [
        "## 1. Importing Data"
      ],
      "metadata": {
        "id": "HmQIZGyHEM1N"
      }
    },
    {
      "cell_type": "markdown",
      "source": [
        "### 1.1 Importing from a CSV file"
      ],
      "metadata": {
        "id": "HiAd-LgnFLHm"
      }
    },
    {
      "cell_type": "markdown",
      "source": [
        "Reading CSV files with Pandas is a crucial concept in data analysis as it allows us to import data from CSV files, which are commonly used to store large datasets. CSV stands for Comma Separated Values and is a simple file format that is widely supported by consumer, business, and scientific applications."
      ],
      "metadata": {
        "id": "s-91CJesPEla"
      }
    },
    {
      "cell_type": "code",
      "source": [
        "# Load the dataset\n",
        "df = pd.read_csv(\"https://afterwork.ai/ds/e/retail_store_81uml.csv\")\n",
        "\n",
        "# Preview the dataset\n",
        "df.head()"
      ],
      "metadata": {
        "id": "X1zN2rpDEkqY"
      },
      "execution_count": null,
      "outputs": []
    },
    {
      "cell_type": "markdown",
      "source": [
        "### 1.2 Importing from an Excel file"
      ],
      "metadata": {
        "id": "dPnc4u_2FUHn"
      }
    },
    {
      "cell_type": "markdown",
      "source": [
        "Reading Excel files in Python using Pandas is a crucial skill in data analysis. It allows us to import data from Excel files, which are widely used in many fields."
      ],
      "metadata": {
        "id": "pKu2fWpYSLe2"
      }
    },
    {
      "cell_type": "code",
      "source": [
        "# Load the dataset\n",
        "df = pd.read_excel(\"https://bit.ly/retail_store_ds\")\n",
        "\n",
        "# Preview the dataset\n",
        "df.head()"
      ],
      "metadata": {
        "id": "Q85ap8ckFUHo"
      },
      "execution_count": null,
      "outputs": []
    },
    {
      "cell_type": "markdown",
      "source": [
        "### Challenges"
      ],
      "metadata": {
        "id": "NBTQVCpFRV4A"
      }
    },
    {
      "cell_type": "markdown",
      "source": [
        "#### Challenge 1"
      ],
      "metadata": {
        "id": "N47kvM2GRXit"
      }
    },
    {
      "cell_type": "markdown",
      "source": [
        "Using the pandas library in Python, read the CSV file from the URL https://afterwork.ai/ds/ch/retail_store_1jtq.csv and store it in a DataFrame. Then, display the first 5 rows of the DataFrame to ensure that the data has been loaded correctly."
      ],
      "metadata": {
        "id": "n9ESiUgZR7AE"
      }
    },
    {
      "cell_type": "code",
      "source": [
        "# Write your code here\n"
      ],
      "metadata": {
        "id": "n1W_JrWXRads"
      },
      "execution_count": null,
      "outputs": []
    },
    {
      "cell_type": "markdown",
      "source": [
        "## 2. Selecting Data"
      ],
      "metadata": {
        "id": "-rAlNGbPElHd"
      }
    },
    {
      "cell_type": "markdown",
      "source": [
        "### 2.1 Column Selection"
      ],
      "metadata": {
        "id": "n_TogM_PFbW7"
      }
    },
    {
      "cell_type": "markdown",
      "source": [
        "Column selection in Pandas is a fundamental concept in data analysis that allows us to isolate specific data for further analysis. This is done using Python and the Pandas library. The concept is important because it allows us to focus on specific data within a larger dataset, which can make our analysis more efficient and targeted."
      ],
      "metadata": {
        "id": "uppRvvsKG0B9"
      }
    },
    {
      "cell_type": "code",
      "source": [
        "# Load the dataset\n",
        "df = pd.read_csv('https://afterwork.ai/ds/e/retail_store_baje.csv')\n",
        "\n",
        "# Preview the dataset\n",
        "df.head()"
      ],
      "metadata": {
        "id": "7jsLjW7TEn0f"
      },
      "execution_count": null,
      "outputs": []
    },
    {
      "cell_type": "code",
      "source": [
        "# Select the 'ProductName' column\n",
        "product_names = df[['ProductName']]\n",
        "\n",
        "# Display the column\n",
        "product_names.head()"
      ],
      "metadata": {
        "id": "OMzi95UmG_cf"
      },
      "execution_count": null,
      "outputs": []
    },
    {
      "cell_type": "code",
      "source": [
        "# Select the 'Price' column\n",
        "prices = df['Price']\n",
        "\n",
        "# Display the column\n",
        "prices.head()"
      ],
      "metadata": {
        "id": "u_Ghr02dHHol"
      },
      "execution_count": null,
      "outputs": []
    },
    {
      "cell_type": "markdown",
      "source": [
        "### 2.2 Multi-Column Selection"
      ],
      "metadata": {
        "id": "daXfrh_XFf0l"
      }
    },
    {
      "cell_type": "markdown",
      "source": [
        "Multi-column selection in Pandas allows us to select and work with multiple columns of data from a DataFrame at once. This is particularly useful when we need to perform operations or analysis on specific subsets of our data."
      ],
      "metadata": {
        "id": "WsSnEFfEH5ZU"
      }
    },
    {
      "cell_type": "code",
      "source": [
        "# Load the dataset\n",
        "df = pd.read_csv('https://afterwork.ai/ds/e/retail_store_srghf.csv')\n",
        "\n",
        "df.head()"
      ],
      "metadata": {
        "id": "XnJFAO8KFf0m"
      },
      "execution_count": null,
      "outputs": []
    },
    {
      "cell_type": "code",
      "source": [
        "# Select multiple columns\n",
        "selected_columns = df[['ProductName', 'Category', 'Price']]\n",
        "\n",
        "# Display the new DataFrame\n",
        "selected_columns"
      ],
      "metadata": {
        "id": "U9QltbQ-IG-z"
      },
      "execution_count": null,
      "outputs": []
    },
    {
      "cell_type": "markdown",
      "source": [
        "### Challenges"
      ],
      "metadata": {
        "id": "AFqAIw5JIdtr"
      }
    },
    {
      "cell_type": "markdown",
      "source": [
        "#### Challenge 2"
      ],
      "metadata": {
        "id": "-U7wy9OiMJCP"
      }
    },
    {
      "cell_type": "markdown",
      "source": [
        "Using the dataset from the URL: https://afterwork.ai/ds/ch/retail_store_5onc.csv, select the 'Product Name', 'Category', and 'Price' columns. Then, create a new DataFrame with these columns. Remember to use Pandas to read in the CSV file and select the appropriate columns."
      ],
      "metadata": {
        "id": "MstfiSRxMRbp"
      }
    },
    {
      "cell_type": "code",
      "source": [
        "# Write your code here\n"
      ],
      "metadata": {
        "id": "618QljGLMJCS"
      },
      "execution_count": null,
      "outputs": []
    },
    {
      "cell_type": "markdown",
      "source": [
        "## 3. Filtering Data"
      ],
      "metadata": {
        "id": "27ITHkEqEoO-"
      }
    },
    {
      "cell_type": "markdown",
      "source": [
        "### 3.1 Using query() for filtering"
      ],
      "metadata": {
        "id": "u_ODDCozVdPS"
      }
    },
    {
      "cell_type": "markdown",
      "source": [
        "Data filtering using the query() function in Pandas allows us to filter data based on a condition. This function is used to extract data that fulfills a certain condition from a DataFrame. The query() function is important because it provides a more efficient and faster way to filter data compared to traditional methods. It is especially useful when dealing with large datasets."
      ],
      "metadata": {
        "id": "clmPwZSgYNXd"
      }
    },
    {
      "cell_type": "code",
      "source": [
        "# Load the dataset\n",
        "df = pd.read_csv('https://afterwork.ai/ds/e/retail_store_bqfht.csv')\n",
        "\n",
        "# Preview the dataset\n",
        "df.head()"
      ],
      "metadata": {
        "id": "e5Cos9RhEqev"
      },
      "execution_count": null,
      "outputs": []
    },
    {
      "cell_type": "code",
      "source": [
        "# Filter the dataset using query()\n",
        "filtered_df = df.query('Price > 1.5')\n",
        "\n",
        "# Display the filtered records\n",
        "filtered_df"
      ],
      "metadata": {
        "id": "0Jg0LK51Zrq-"
      },
      "execution_count": null,
      "outputs": []
    },
    {
      "cell_type": "markdown",
      "source": [
        "### 3.2 Using loc for filtering"
      ],
      "metadata": {
        "id": "yXZea-ZzVosj"
      }
    },
    {
      "cell_type": "markdown",
      "source": [
        "The loc attribute in Pandas is a powerful tool that allows us to access and manipulate data in a DataFrame based on labels. It is used for indexing and slicing the data frame, in a way that is more intuitive to users. The loc attribute is important because it provides a flexible and efficient way to filter and manipulate data in a DataFrame."
      ],
      "metadata": {
        "id": "TYFb9Ua4WtM7"
      }
    },
    {
      "cell_type": "code",
      "source": [
        "# Load the dataset\n",
        "df = pd.read_csv('https://afterwork.ai/ds/e/retail_store_yngqw.csv')\n",
        "\n",
        "# Preview the dataset\n",
        "df.head()"
      ],
      "metadata": {
        "id": "No5yok5-Vosy"
      },
      "execution_count": null,
      "outputs": []
    },
    {
      "cell_type": "code",
      "source": [
        "# Filter rows where the 'Price' column is greater than 1000\n",
        "filtered_df = df.loc[df['Price'] > 1000]\n",
        "\n",
        "# Display filtered rows\n",
        "filtered_df.head()"
      ],
      "metadata": {
        "id": "YZ4moq8hW7LJ"
      },
      "execution_count": null,
      "outputs": []
    },
    {
      "cell_type": "code",
      "source": [
        "# Filter 'Product' and 'Price' columns for rows where 'Category' is 'Electronics'\n",
        "electronics_df = df.loc[df['Category'] == 'Electronics', ['Product', 'Price']]\n",
        "\n",
        "# Display electronics_df\n",
        "electronics_df.head()"
      ],
      "metadata": {
        "id": "gJgFyu8pW9LV"
      },
      "execution_count": null,
      "outputs": []
    },
    {
      "cell_type": "code",
      "source": [
        "# Filter 'Product' and 'Sales' columns for rows where 'Sales' is greater than 5000\n",
        "high_sales_df = df.loc[df['Sales'] > 5000, ['Product', 'Sales']]\n",
        "\n",
        "# Display high_sales_df\n",
        "high_sales_df.head()"
      ],
      "metadata": {
        "id": "xOcQIfevW-jh"
      },
      "execution_count": null,
      "outputs": []
    },
    {
      "cell_type": "markdown",
      "source": [
        "### 3.3 Using iloc for filtering"
      ],
      "metadata": {
        "id": "JQ5VzUGPVt3C"
      }
    },
    {
      "cell_type": "markdown",
      "source": [
        "The iloc function in Pandas is a powerful tool that allows us to filter data based on its integer location. It is a purely integer-location based indexing for selection by position. This is important because it allows us to access and manipulate data in a more precise manner. To use iloc, we first need to understand that it works based on the integer index position of the data. For example, if we want to select the first row of a DataFrame, we would use df.iloc[0]. If we want to select a specific column, we would use df.iloc[:, column_number]."
      ],
      "metadata": {
        "id": "DnRstx5cYVcl"
      }
    },
    {
      "cell_type": "code",
      "source": [
        "# Load the dataset\n",
        "df = pd.read_csv('https://afterwork.ai/ds/e/retail_store_8x90d.csv')\n",
        "\n",
        "# Preview the dataset\n",
        "df.head()"
      ],
      "metadata": {
        "id": "mcwzJ_YvVxLq"
      },
      "execution_count": null,
      "outputs": []
    },
    {
      "cell_type": "code",
      "source": [
        "# Use iloc to select the first 5 rows\n",
        "first_five_rows = df.iloc[0:5]\n",
        "\n",
        "# Display first_five_rows\n",
        "first_five_rows"
      ],
      "metadata": {
        "id": "zInE8T3zYh7n"
      },
      "execution_count": null,
      "outputs": []
    },
    {
      "cell_type": "code",
      "source": [
        "# Use iloc to select the third column\n",
        "third_column = df.iloc[:, [2]]\n",
        "\n",
        "# Display third_column\n",
        "third_column"
      ],
      "metadata": {
        "id": "fTMvbaTjYl_B"
      },
      "execution_count": null,
      "outputs": []
    },
    {
      "cell_type": "code",
      "source": [
        "# Use iloc to select a specific cell (row 3, column 2)\n",
        "specific_cell = df.iloc[[2], [1]]\n",
        "\n",
        "# Display specific_cell\n",
        "specific_cell"
      ],
      "metadata": {
        "id": "eu7hZ732YnV2"
      },
      "execution_count": null,
      "outputs": []
    },
    {
      "cell_type": "code",
      "source": [
        "# Use iloc to select a range of rows and columns (rows 1-3, columns 2-4)\n",
        "subset = df.iloc[0:3, 1:4]\n",
        "\n",
        "# Display subset\n",
        "subset"
      ],
      "metadata": {
        "id": "1vFb9NqAYoi1"
      },
      "execution_count": null,
      "outputs": []
    },
    {
      "cell_type": "markdown",
      "source": [
        "### Challenge"
      ],
      "metadata": {
        "id": "UswcNqxaXYF8"
      }
    },
    {
      "cell_type": "markdown",
      "source": [
        "#### Challenge 2"
      ],
      "metadata": {
        "id": "r_e-FwWhXaDm"
      }
    },
    {
      "cell_type": "markdown",
      "source": [
        "Using the dataset from the URL: https://afterwork.ai/ds/ch/retail_store_h4lx.csv, filter the data to only include products in the 'Electronics' category that have a price greater than $700. Use the loc attribute in Pandas for this task."
      ],
      "metadata": {
        "id": "YW9WbkcKXr_5"
      }
    },
    {
      "cell_type": "code",
      "source": [
        "# Write your code here\n"
      ],
      "metadata": {
        "id": "SoPfhMm6XeWU"
      },
      "execution_count": null,
      "outputs": []
    },
    {
      "cell_type": "code",
      "source": [
        "# Write your code here\n"
      ],
      "metadata": {
        "id": "Z3xmci1mX4x9"
      },
      "execution_count": null,
      "outputs": []
    },
    {
      "cell_type": "markdown",
      "source": [
        "## 4. Aggregating Data"
      ],
      "metadata": {
        "id": "wHAW1B81Eqy9"
      }
    },
    {
      "cell_type": "markdown",
      "source": [
        "### 4.1 Using Groupby for Data Aggregation"
      ],
      "metadata": {
        "id": "Jbdq-H9ab60n"
      }
    },
    {
      "cell_type": "markdown",
      "source": [
        "The groupby method in Pandas allows us to group data based on certain criteria and then perform aggregate functions on those groups. For instance, if we have a data set of sales data and we want to know the total sales per region, we would group the data by the 'region' column and then apply the sum function to the 'sales' column. This is a powerful tool for data analysis as it enables us to summarize and understand complex data sets."
      ],
      "metadata": {
        "id": "rZzFsS3scGT5"
      }
    },
    {
      "cell_type": "code",
      "source": [
        "# Load the data\n",
        "df = pd.read_csv('https://afterwork.ai/ds/e/retail_store_duo4.csv')\n",
        "\n",
        "# Preview the dataset\n",
        "df.head()"
      ],
      "metadata": {
        "id": "s-lwbs-GEs1f"
      },
      "execution_count": null,
      "outputs": []
    },
    {
      "cell_type": "code",
      "source": [
        "# Group by 'Category' and calculate total sales\n",
        "grouped_df = df.groupby('Category')['Sales'].sum().reset_index()\n",
        "\n",
        "# Print the result\n",
        "grouped_df"
      ],
      "metadata": {
        "id": "Zm_Ro1uFcQKy"
      },
      "execution_count": null,
      "outputs": []
    },
    {
      "cell_type": "markdown",
      "source": [
        "### 4.2 Using a Pivot Table for Data Aggregation"
      ],
      "metadata": {
        "id": "M2hIOVDck-Bx"
      }
    },
    {
      "cell_type": "markdown",
      "source": [
        "Using pivot table in Pandas allows us to summarize and aggregate data based on one or more columns. It is a powerful tool for data analysis and can provide valuable insights into the relationships between variables."
      ],
      "metadata": {
        "id": "-h-7Vk7Sk-CA"
      }
    },
    {
      "cell_type": "code",
      "source": [
        "# Load the data\n",
        "df = pd.read_csv(\"https://afterwork.ai/ds/e/retail_store_smzh8.csv\")\n",
        "\n",
        "# Preview the dataset\n",
        "df.head()"
      ],
      "metadata": {
        "id": "RJXdw11kk-CA"
      },
      "execution_count": null,
      "outputs": []
    },
    {
      "cell_type": "code",
      "source": [
        "# Pivot table to aggregate data based on Category and calculate the sum of Price and Quantity\n",
        "pivot_table = pd.pivot_table(df, values=['Price', 'Quantity'], index='Category', aggfunc='sum')\n",
        "# Display the pivot table\n",
        "pivot_table"
      ],
      "metadata": {
        "id": "Ty7n2g_Nk-CB"
      },
      "execution_count": null,
      "outputs": []
    },
    {
      "cell_type": "markdown",
      "source": [
        "### Challenges"
      ],
      "metadata": {
        "id": "DZpqGJBJcXRJ"
      }
    },
    {
      "cell_type": "markdown",
      "source": [
        "#### Challenge 1"
      ],
      "metadata": {
        "id": "jHVi6Wd6cYlK"
      }
    },
    {
      "cell_type": "markdown",
      "source": [
        "Using the dataset from https://afterwork.ai/ds/ch/retail_store_hkg0.csv, write a Python program that groups the data by 'Category' and calculates the total sales for each category. Use the pandas library to read the CSV file, the .groupby() method to group the data, and the .sum() function to calculate the total sales."
      ],
      "metadata": {
        "id": "h3sbhf2Zcjvx"
      }
    },
    {
      "cell_type": "code",
      "source": [
        "# Write your code here\n"
      ],
      "metadata": {
        "id": "skEJ6iU6ceQD"
      },
      "execution_count": null,
      "outputs": []
    },
    {
      "cell_type": "markdown",
      "source": [
        "## 5. Visualizing Data"
      ],
      "metadata": {
        "id": "8qAATdbzEtJ9"
      }
    },
    {
      "cell_type": "code",
      "source": [
        "# Import the Matlotlib library to perform data visualization\n",
        "\n",
        "import matplotlib.pyplot as plt"
      ],
      "metadata": {
        "id": "2jP0H8qul8Kd"
      },
      "execution_count": null,
      "outputs": []
    },
    {
      "cell_type": "markdown",
      "source": [
        "### 5.1 Bar chart"
      ],
      "metadata": {
        "id": "zEBJB9cKEG7o"
      }
    },
    {
      "cell_type": "markdown",
      "source": [
        "A bar chart is a type of chart that presents categorical data with rectangular bars. The lengths of the bars are proportional to the values they represent. This type of chart is commonly used to compare and visualize data across different categories.\n"
      ],
      "metadata": {
        "id": "tW0sKH37kbt8"
      }
    },
    {
      "cell_type": "code",
      "source": [
        "# Read the dataset from the URL\n",
        "df = pd.read_csv(\"https://afterwork.ai/ds/ch/retail_store_xrku.csv\")\n",
        "\n",
        "# Preview the dataset\n",
        "df.head()"
      ],
      "metadata": {
        "id": "qlWst9tCE80G"
      },
      "execution_count": null,
      "outputs": []
    },
    {
      "cell_type": "code",
      "source": [
        "# Count the number of occurrences for each category\n",
        "category_counts = df['Category'].value_counts()\n",
        "\n",
        "# Preview category_counts\n",
        "category_counts"
      ],
      "metadata": {
        "id": "O5gNJKs2m8Px"
      },
      "execution_count": null,
      "outputs": []
    },
    {
      "cell_type": "code",
      "source": [
        "# Create a bar chart using the category counts\n",
        "plt.bar(category_counts.index, category_counts.values)\n",
        "\n",
        "# Set the title and labels for the chart\n",
        "plt.title(\"Quantity of Each Category in Retail Store\")\n",
        "plt.xlabel(\"Category\")\n",
        "plt.ylabel(\"Quantity\")\n",
        "\n",
        "# Rotate the x-axis labels for better readability\n",
        "plt.xticks(rotation=90)\n",
        "\n",
        "# Display the chart\n",
        "plt.show()"
      ],
      "metadata": {
        "id": "A2lxph3Bk19u"
      },
      "execution_count": null,
      "outputs": []
    },
    {
      "cell_type": "markdown",
      "source": [
        "### 5.2 Histogram"
      ],
      "metadata": {
        "id": "MaQuSFJfEMu8"
      }
    },
    {
      "cell_type": "markdown",
      "source": [
        "A histogram is a graphical representation of the distribution of a dataset. It is an estimate of the probability distribution of a continuous variable. In a histogram, the data is divided into a set of bins, and the count of observations that fall into each bin is represented by the height of a bar. Histograms are commonly used to visualize the frequency or density of data in different intervals or ranges."
      ],
      "metadata": {
        "id": "DQ8mSGgumWYY"
      }
    },
    {
      "cell_type": "code",
      "source": [
        "# Load the dataset\n",
        "df = pd.read_csv('https://afterwork.ai/ds/ch/computer_science_52z9.csv')\n",
        "\n",
        "# Preview the dataset\n",
        "df.head()"
      ],
      "metadata": {
        "id": "Jgb_8aIoEMvZ"
      },
      "execution_count": null,
      "outputs": []
    },
    {
      "cell_type": "code",
      "source": [
        "# Create the histogram\n",
        "plt.hist(df['NetworkingSkill'], bins=10)\n",
        "\n",
        "# Add labels and title\n",
        "plt.title('Networking Skill Histogram')\n",
        "plt.xlabel('Networking Skill')\n",
        "plt.ylabel('Frequency')\n",
        "\n",
        "# Display the plot\n",
        "plt.show()"
      ],
      "metadata": {
        "id": "GupRDYq0vC_-"
      },
      "execution_count": null,
      "outputs": []
    },
    {
      "cell_type": "markdown",
      "source": [
        "### 5.3 Line chart"
      ],
      "metadata": {
        "id": "zocoI3m-EYYT"
      }
    },
    {
      "cell_type": "markdown",
      "source": [
        "A line chart is a type of chart that displays data as a series of points connected by straight lines. It is used to visualize trends and patterns over time or across different categories. Line charts are particularly useful for showing the relationship between two variables and how they change over a continuous range."
      ],
      "metadata": {
        "id": "Lmeb6CseqFyQ"
      }
    },
    {
      "cell_type": "code",
      "source": [
        "# Read the CSV file into a DataFrame\n",
        "df = pd.read_csv(\"https://afterwork.ai/ds/e/stock_956yk.csv\")\n",
        "\n",
        "# Preview the dataset\n",
        "df.head()"
      ],
      "metadata": {
        "id": "NpfxHpttqTgU"
      },
      "execution_count": null,
      "outputs": []
    },
    {
      "cell_type": "code",
      "source": [
        "# Convert the 'Date' column to datetime format\n",
        "df['Date'] = pd.to_datetime(df['Date'])\n",
        "\n",
        "# Set the 'Date' column as the index\n",
        "df.set_index('Date', inplace=True)\n",
        "\n",
        "# Preview the dataset\n",
        "df.head()"
      ],
      "metadata": {
        "id": "vdR14zaWs1pG"
      },
      "execution_count": null,
      "outputs": []
    },
    {
      "cell_type": "code",
      "source": [
        "# Plot the line chart with vertical x-axis\n",
        "plt.plot(df.index, df['Stock Price'])\n",
        "\n",
        "# Add labels and title\n",
        "plt.xlabel('Date')\n",
        "plt.ylabel('Stock Price')\n",
        "plt.title('Stock Price Over Time')\n",
        "\n",
        "# Display the chart\n",
        "plt.xticks(rotation=45) # Rotate the x-labels\n",
        "plt.show()"
      ],
      "metadata": {
        "id": "OXnaxJVCuWIb"
      },
      "execution_count": null,
      "outputs": []
    },
    {
      "cell_type": "markdown",
      "source": [
        "### 5.4 Scatter plot"
      ],
      "metadata": {
        "id": "2MBvf8ngEf_T"
      }
    },
    {
      "cell_type": "markdown",
      "source": [
        "A scatter plot is a type of graph that shows the relationship between two variables. We can create a scatter plot using Python and Matplotlib by specifying the x-axis and y-axis data points to be plotted. We can also customize the look of our plot with different colors, markers, gridlines, etc. To create a basic scatter plot in Python and Matplotlib we use the plt.scatter() function which takes in two arguments: an array containing x-values and another array containing y-values."
      ],
      "metadata": {
        "id": "UYckQ_WnsSqF"
      }
    },
    {
      "cell_type": "code",
      "source": [
        "# Reading data from the provided CSV URL into a Pandas DataFrame\n",
        "df = pd.read_csv('https://afterwork.ai/ds/e/computer_science_yigom.csv')\n",
        "\n",
        "# Preview the dataset\n",
        "df.head()"
      ],
      "metadata": {
        "id": "CVKFuDpxEf_i"
      },
      "execution_count": null,
      "outputs": []
    },
    {
      "cell_type": "code",
      "source": [
        "# Creating a scatter plot with specified marker size, color, and transparency\n",
        "plt.scatter(df['Speed'], df['Memory Usage'], c='blue')\n",
        "\n",
        "# Adding labels to the axes\n",
        "plt.xlabel('Speed')\n",
        "plt.ylabel('Memory Usage')\n",
        "\n",
        "# Setting the title of the plot\n",
        "plt.title('Programming Language Performance')\n",
        "\n",
        "# Displaying the plot\n",
        "plt.show()"
      ],
      "metadata": {
        "id": "lUiVlIhEsR9L"
      },
      "execution_count": null,
      "outputs": []
    },
    {
      "cell_type": "markdown",
      "source": [
        "### Challenges"
      ],
      "metadata": {
        "id": "B9CcU7zqEmTd"
      }
    },
    {
      "cell_type": "markdown",
      "source": [
        "#### Challenge 3"
      ],
      "metadata": {
        "id": "Wza8jdAWnHAF"
      }
    },
    {
      "cell_type": "code",
      "source": [
        "# Write your code here\n"
      ],
      "metadata": {
        "id": "ueypfOBBnHAG"
      },
      "execution_count": null,
      "outputs": []
    },
    {
      "cell_type": "markdown",
      "source": [
        "#### Challenge 4"
      ],
      "metadata": {
        "id": "6rj5KHpFnHWa"
      }
    },
    {
      "cell_type": "markdown",
      "source": [
        "Create a scatter plot using Python and Matplotlib to visualize the relationship between ProgrammingSkill and MathSkill for the students in the dataset located at https://afterwork.ai/ds/ch/computer_science_ct9a.csv. Remember to use the plt.scatter() function and specify the x-axis and y-axis data points to be plotted."
      ],
      "metadata": {
        "id": "AZ-kHE4qsfLF"
      }
    },
    {
      "cell_type": "code",
      "source": [
        "# Write your code here\n"
      ],
      "metadata": {
        "id": "jbhlkBRtnHWa"
      },
      "execution_count": null,
      "outputs": []
    }
  ]
}